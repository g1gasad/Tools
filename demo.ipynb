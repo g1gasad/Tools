{
 "cells": [
  {
   "cell_type": "code",
   "execution_count": 1,
   "id": "e5ca349b-fa68-4109-ac80-4bc6fa9fecf2",
   "metadata": {},
   "outputs": [],
   "source": [
    "import numpy as np\n",
    "import pandas as pd"
   ]
  },
  {
   "cell_type": "code",
   "execution_count": 11,
   "id": "29df64c5-f8c3-4132-8bf5-5288b7754c02",
   "metadata": {},
   "outputs": [
    {
     "data": {
      "text/html": [
       "<div>\n",
       "<style scoped>\n",
       "    .dataframe tbody tr th:only-of-type {\n",
       "        vertical-align: middle;\n",
       "    }\n",
       "\n",
       "    .dataframe tbody tr th {\n",
       "        vertical-align: top;\n",
       "    }\n",
       "\n",
       "    .dataframe thead th {\n",
       "        text-align: right;\n",
       "    }\n",
       "</style>\n",
       "<table border=\"1\" class=\"dataframe\">\n",
       "  <thead>\n",
       "    <tr style=\"text-align: right;\">\n",
       "      <th></th>\n",
       "      <th>Expenses Made BY</th>\n",
       "      <th>Timestamp</th>\n",
       "      <th>Date</th>\n",
       "      <th>SITE CODE</th>\n",
       "      <th>Site Name</th>\n",
       "      <th>Site Address</th>\n",
       "      <th>Department</th>\n",
       "      <th>Expense Head</th>\n",
       "      <th>Description of Expenses</th>\n",
       "      <th>Payment Method</th>\n",
       "      <th>Expense Bill Amount</th>\n",
       "      <th>Advance / Cash Received Amount</th>\n",
       "      <th>adv balance amount</th>\n",
       "      <th></th>\n",
       "      <th>Score</th>\n",
       "      <th>Invoice/ Payslip</th>\n",
       "      <th>Remarks</th>\n",
       "    </tr>\n",
       "  </thead>\n",
       "  <tbody>\n",
       "    <tr>\n",
       "      <th>0</th>\n",
       "      <td>Kalyani Wankhede</td>\n",
       "      <td>2023-06-13 14:26:42.456</td>\n",
       "      <td>2023-05-05</td>\n",
       "      <td>100.0</td>\n",
       "      <td>Lab</td>\n",
       "      <td>NaN</td>\n",
       "      <td>Laboratory Expenses</td>\n",
       "      <td>Grocery</td>\n",
       "      <td>Grocery</td>\n",
       "      <td>Googel Pay</td>\n",
       "      <td>2463.0</td>\n",
       "      <td>NaN</td>\n",
       "      <td>2463.0</td>\n",
       "      <td>-2463.0</td>\n",
       "      <td>0.0</td>\n",
       "      <td>https://drive.google.com/open?id=1JJZXEsmluqUC...</td>\n",
       "      <td>April bill clear</td>\n",
       "    </tr>\n",
       "    <tr>\n",
       "      <th>1</th>\n",
       "      <td>Manoj  Umale</td>\n",
       "      <td>2023-05-05 12:58:01.773</td>\n",
       "      <td>2023-05-05</td>\n",
       "      <td>101.0</td>\n",
       "      <td>D  mart</td>\n",
       "      <td>Ganesh peth</td>\n",
       "      <td>core cutting</td>\n",
       "      <td>Fuel</td>\n",
       "      <td>Petrol</td>\n",
       "      <td>Cash</td>\n",
       "      <td>200.0</td>\n",
       "      <td>NaN</td>\n",
       "      <td>200.0</td>\n",
       "      <td>-200.0</td>\n",
       "      <td>NaN</td>\n",
       "      <td>https://drive.google.com/file/d/1Z-TcKfRZV5fwx...</td>\n",
       "      <td>NaN</td>\n",
       "    </tr>\n",
       "    <tr>\n",
       "      <th>2</th>\n",
       "      <td>Kalyani Wankhede</td>\n",
       "      <td>2023-05-09 16:49:24.545</td>\n",
       "      <td>2023-05-09</td>\n",
       "      <td>100.0</td>\n",
       "      <td>Lab</td>\n",
       "      <td>Lab</td>\n",
       "      <td>Housekeeping</td>\n",
       "      <td>Electrician labor charge</td>\n",
       "      <td>Coolar,light</td>\n",
       "      <td>Other</td>\n",
       "      <td>1900.0</td>\n",
       "      <td>NaN</td>\n",
       "      <td>1900.0</td>\n",
       "      <td>-1900.0</td>\n",
       "      <td>0.0</td>\n",
       "      <td>https://drive.google.com/open?id=1G1AJm3e1-Qcv...</td>\n",
       "      <td>Payment balance</td>\n",
       "    </tr>\n",
       "    <tr>\n",
       "      <th>3</th>\n",
       "      <td>Harshika Upadhya</td>\n",
       "      <td>2023-05-09 18:55:16.210</td>\n",
       "      <td>2023-05-08</td>\n",
       "      <td>102.0</td>\n",
       "      <td>ajni railway station</td>\n",
       "      <td>ajni railway station</td>\n",
       "      <td>Chemical</td>\n",
       "      <td>Transportation</td>\n",
       "      <td>water sample collection</td>\n",
       "      <td>Googel Pay</td>\n",
       "      <td>200.0</td>\n",
       "      <td>200.0</td>\n",
       "      <td>0.0</td>\n",
       "      <td>NaN</td>\n",
       "      <td>0.0</td>\n",
       "      <td>https://drive.google.com/open?id=1MPc3NJaV7Iv1...</td>\n",
       "      <td>NaN</td>\n",
       "    </tr>\n",
       "    <tr>\n",
       "      <th>4</th>\n",
       "      <td>Kalyani Wankhede</td>\n",
       "      <td>2023-05-10 17:09:55.019</td>\n",
       "      <td>2023-05-10</td>\n",
       "      <td>100.0</td>\n",
       "      <td>Lab</td>\n",
       "      <td>Lab</td>\n",
       "      <td>Housekeeping</td>\n",
       "      <td>Electrician Subhash bill</td>\n",
       "      <td>Switch board repair connected to generator</td>\n",
       "      <td>Other</td>\n",
       "      <td>610.0</td>\n",
       "      <td>NaN</td>\n",
       "      <td>610.0</td>\n",
       "      <td>-610.0</td>\n",
       "      <td>0.0</td>\n",
       "      <td>https://drive.google.com/open?id=18nH0nTlUaXh8...</td>\n",
       "      <td>NaN</td>\n",
       "    </tr>\n",
       "  </tbody>\n",
       "</table>\n",
       "</div>"
      ],
      "text/plain": [
       "   Expenses Made BY               Timestamp       Date  SITE CODE  \\\n",
       "0  Kalyani Wankhede 2023-06-13 14:26:42.456 2023-05-05      100.0   \n",
       "1      Manoj  Umale 2023-05-05 12:58:01.773 2023-05-05      101.0   \n",
       "2  Kalyani Wankhede 2023-05-09 16:49:24.545 2023-05-09      100.0   \n",
       "3  Harshika Upadhya 2023-05-09 18:55:16.210 2023-05-08      102.0   \n",
       "4  Kalyani Wankhede 2023-05-10 17:09:55.019 2023-05-10      100.0   \n",
       "\n",
       "              Site Name          Site Address           Department  \\\n",
       "0                  Lab                    NaN  Laboratory Expenses   \n",
       "1               D  mart           Ganesh peth         core cutting   \n",
       "2                   Lab                   Lab         Housekeeping   \n",
       "3  ajni railway station  ajni railway station             Chemical   \n",
       "4                   Lab                   Lab         Housekeeping   \n",
       "\n",
       "               Expense Head                      Description of Expenses  \\\n",
       "0                   Grocery                                     Grocery    \n",
       "1                      Fuel                                       Petrol   \n",
       "2  Electrician labor charge                                 Coolar,light   \n",
       "3            Transportation                     water sample collection    \n",
       "4  Electrician Subhash bill  Switch board repair connected to generator    \n",
       "\n",
       "  Payment Method  Expense Bill Amount  Advance / Cash Received Amount   \\\n",
       "0     Googel Pay               2463.0                              NaN   \n",
       "1           Cash                200.0                              NaN   \n",
       "2          Other               1900.0                              NaN   \n",
       "3     Googel Pay                200.0                            200.0   \n",
       "4          Other                610.0                              NaN   \n",
       "\n",
       "   adv balance amount          Score  \\\n",
       "0              2463.0 -2463.0    0.0   \n",
       "1               200.0  -200.0    NaN   \n",
       "2              1900.0 -1900.0    0.0   \n",
       "3                 0.0     NaN    0.0   \n",
       "4               610.0  -610.0    0.0   \n",
       "\n",
       "                                    Invoice/ Payslip            Remarks  \n",
       "0  https://drive.google.com/open?id=1JJZXEsmluqUC...  April bill clear   \n",
       "1  https://drive.google.com/file/d/1Z-TcKfRZV5fwx...                NaN  \n",
       "2  https://drive.google.com/open?id=1G1AJm3e1-Qcv...    Payment balance  \n",
       "3  https://drive.google.com/open?id=1MPc3NJaV7Iv1...                NaN  \n",
       "4  https://drive.google.com/open?id=18nH0nTlUaXh8...                NaN  "
      ]
     },
     "execution_count": 11,
     "metadata": {},
     "output_type": "execute_result"
    }
   ],
   "source": [
    "df = pd.read_excel('Downloads/demo.xlsx')\n",
    "df.drop('Sr No', axis=1, inplace=True)\n",
    "df.head()"
   ]
  },
  {
   "cell_type": "code",
   "execution_count": 12,
   "id": "cb14dd2f-9f8c-4257-a9d7-8c3afe056455",
   "metadata": {},
   "outputs": [
    {
     "data": {
      "text/plain": [
       "Index(['Expenses Made BY', 'Timestamp', 'Date', 'SITE CODE', 'Site Name',\n",
       "       'Site Address', 'Department', 'Expense Head', 'Description of Expenses',\n",
       "       'Payment Method', 'Expense Bill Amount',\n",
       "       'Advance / Cash Received Amount ', 'adv balance amount', ' ', 'Score',\n",
       "       'Invoice/ Payslip', 'Remarks'],\n",
       "      dtype='object')"
      ]
     },
     "execution_count": 12,
     "metadata": {},
     "output_type": "execute_result"
    }
   ],
   "source": [
    "df.columns"
   ]
  },
  {
   "cell_type": "code",
   "execution_count": 13,
   "id": "70880eef-ffd2-4954-845b-561bd1105afc",
   "metadata": {},
   "outputs": [
    {
     "data": {
      "text/plain": [
       "Expenses Made BY                     0\n",
       "Timestamp                            0\n",
       "Date                                 0\n",
       "SITE CODE                          145\n",
       "Site Name                           11\n",
       "Site Address                       113\n",
       "Department                          78\n",
       "Expense Head                         0\n",
       "Description of Expenses             89\n",
       "Payment Method                       0\n",
       "Expense Bill Amount                  8\n",
       "Advance / Cash Received Amount     176\n",
       "adv balance amount                   0\n",
       "                                    79\n",
       "Score                                1\n",
       "Invoice/ Payslip                   159\n",
       "Remarks                            187\n",
       "dtype: int64"
      ]
     },
     "execution_count": 13,
     "metadata": {},
     "output_type": "execute_result"
    }
   ],
   "source": [
    "df.isnull().sum()"
   ]
  },
  {
   "cell_type": "code",
   "execution_count": 15,
   "id": "fcaa35e3-4345-4586-86a4-74bab891cccb",
   "metadata": {},
   "outputs": [
    {
     "data": {
      "text/plain": [
       "Expenses Made BY                           object\n",
       "Timestamp                          datetime64[ns]\n",
       "Date                               datetime64[ns]\n",
       "SITE CODE                                 float64\n",
       "Site Name                                  object\n",
       "Site Address                               object\n",
       "Department                                 object\n",
       "Expense Head                               object\n",
       "Description of Expenses                    object\n",
       "Payment Method                             object\n",
       "Expense Bill Amount                       float64\n",
       "Advance / Cash Received Amount            float64\n",
       "adv balance amount                        float64\n",
       "                                          float64\n",
       "Score                                     float64\n",
       "Invoice/ Payslip                           object\n",
       "Remarks                                    object\n",
       "dtype: object"
      ]
     },
     "execution_count": 15,
     "metadata": {},
     "output_type": "execute_result"
    }
   ],
   "source": [
    "df.dtypes"
   ]
  },
  {
   "cell_type": "code",
   "execution_count": null,
   "id": "e136d0d3-8b8d-4136-8dc9-c22455a19ef6",
   "metadata": {},
   "outputs": [],
   "source": []
  },
  {
   "cell_type": "code",
   "execution_count": null,
   "id": "6a3ebcf2-6a7d-4d9e-8405-e49abe99561e",
   "metadata": {},
   "outputs": [],
   "source": []
  },
  {
   "cell_type": "code",
   "execution_count": null,
   "id": "4427cc36-425a-408d-9761-8ac6f8384a4f",
   "metadata": {},
   "outputs": [],
   "source": []
  },
  {
   "cell_type": "code",
   "execution_count": null,
   "id": "e356ce9a-ac7a-4266-822e-5a6e9bdf6a20",
   "metadata": {},
   "outputs": [],
   "source": []
  },
  {
   "cell_type": "code",
   "execution_count": null,
   "id": "044ad001-277c-41bf-8eed-f92a6fd096b3",
   "metadata": {},
   "outputs": [],
   "source": []
  },
  {
   "cell_type": "code",
   "execution_count": null,
   "id": "35331bce-8d45-499e-ba97-a5b8507c3654",
   "metadata": {},
   "outputs": [],
   "source": []
  },
  {
   "cell_type": "code",
   "execution_count": null,
   "id": "0131b547-fb56-4c23-8a3d-0f5dfd66e82b",
   "metadata": {},
   "outputs": [],
   "source": []
  },
  {
   "cell_type": "code",
   "execution_count": null,
   "id": "8716c756-01ea-4f6c-b387-059b4085a43b",
   "metadata": {},
   "outputs": [],
   "source": []
  }
 ],
 "metadata": {
  "kernelspec": {
   "display_name": "Python 3 (ipykernel)",
   "language": "python",
   "name": "python3"
  },
  "language_info": {
   "codemirror_mode": {
    "name": "ipython",
    "version": 3
   },
   "file_extension": ".py",
   "mimetype": "text/x-python",
   "name": "python",
   "nbconvert_exporter": "python",
   "pygments_lexer": "ipython3",
   "version": "3.10.9"
  }
 },
 "nbformat": 4,
 "nbformat_minor": 5
}
