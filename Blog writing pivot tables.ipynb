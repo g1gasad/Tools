{
 "cells": [
  {
   "cell_type": "code",
   "execution_count": 1,
   "id": "ed7de74d-3e3e-4960-9da8-204968dc6193",
   "metadata": {},
   "outputs": [],
   "source": [
    "import pandas as pd"
   ]
  },
  {
   "cell_type": "code",
   "execution_count": 2,
   "id": "9f286d4f-de4d-4f51-b8d9-b80cf2e39c5a",
   "metadata": {},
   "outputs": [],
   "source": [
    "data = {\n",
    "    'City': ['New York', 'New York', 'Chicago', 'Chicago', 'Chicago'],\n",
    "    'Year': [2019, 2020, 2019, 2020, 2021],\n",
    "    'Sales': [1000, 1500, 800, 1200, 2000]\n",
    "}\n",
    "\n",
    "df = pd.DataFrame(data)"
   ]
  },
  {
   "cell_type": "code",
   "execution_count": 3,
   "id": "f36d6cfe-c538-4b20-b7f8-5976e25ada57",
   "metadata": {},
   "outputs": [
    {
     "name": "stdout",
     "output_type": "stream",
     "text": [
      "       City  Year  Sales\n",
      "0  New York  2019   1000\n",
      "1  New York  2020   1500\n",
      "2   Chicago  2019    800\n",
      "3   Chicago  2020   1200\n",
      "4   Chicago  2021   2000\n"
     ]
    }
   ],
   "source": [
    "print(df)"
   ]
  },
  {
   "cell_type": "code",
   "execution_count": 4,
   "id": "99e61498-70ef-46c6-9db0-acf176d76faa",
   "metadata": {},
   "outputs": [],
   "source": [
    "# Create a pivot table\n",
    "pivot_table = pd.pivot_table(df, values='Sales', index='City',\n",
    "                             columns='Year', aggfunc='sum')"
   ]
  },
  {
   "cell_type": "code",
   "execution_count": 5,
   "id": "a0c7b489-8b00-4b22-961c-22e9aac65b8b",
   "metadata": {},
   "outputs": [
    {
     "name": "stdout",
     "output_type": "stream",
     "text": [
      "Year        2019    2020    2021\n",
      "City                            \n",
      "Chicago    800.0  1200.0  2000.0\n",
      "New York  1000.0  1500.0     NaN\n"
     ]
    }
   ],
   "source": [
    "print(pivot_table)"
   ]
  },
  {
   "cell_type": "code",
   "execution_count": null,
   "id": "2979eaa3-cf3b-45f6-8810-9fc7b463b968",
   "metadata": {},
   "outputs": [],
   "source": []
  },
  {
   "cell_type": "code",
   "execution_count": null,
   "id": "5df6622c-a408-4a5c-9745-c803c5375470",
   "metadata": {},
   "outputs": [],
   "source": []
  },
  {
   "cell_type": "code",
   "execution_count": null,
   "id": "e23d70cd-2e2a-4965-af03-88133a376201",
   "metadata": {},
   "outputs": [],
   "source": []
  },
  {
   "cell_type": "code",
   "execution_count": null,
   "id": "c1d19ec5-1f1d-4d42-bf79-a8edf7920deb",
   "metadata": {},
   "outputs": [],
   "source": []
  }
 ],
 "metadata": {
  "kernelspec": {
   "display_name": "Python 3 (ipykernel)",
   "language": "python",
   "name": "python3"
  },
  "language_info": {
   "codemirror_mode": {
    "name": "ipython",
    "version": 3
   },
   "file_extension": ".py",
   "mimetype": "text/x-python",
   "name": "python",
   "nbconvert_exporter": "python",
   "pygments_lexer": "ipython3",
   "version": "3.10.9"
  }
 },
 "nbformat": 4,
 "nbformat_minor": 5
}
