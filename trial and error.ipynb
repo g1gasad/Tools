{
 "cells": [
  {
   "cell_type": "code",
   "execution_count": 1,
   "id": "7e395dce",
   "metadata": {},
   "outputs": [],
   "source": [
    "import numpy as np\n",
    "import pandas as pd"
   ]
  },
  {
   "cell_type": "code",
   "execution_count": 2,
   "id": "09410568",
   "metadata": {},
   "outputs": [],
   "source": [
    "df = pd.read_csv('C:\\\\Users\\\\CWC\\\\Downloads\\\\archive (5)\\\\athlete_events.csv')"
   ]
  },
  {
   "cell_type": "code",
   "execution_count": 4,
   "id": "37b4962a",
   "metadata": {},
   "outputs": [
    {
     "data": {
      "text/plain": [
       "(271116, 15)"
      ]
     },
     "execution_count": 4,
     "metadata": {},
     "output_type": "execute_result"
    }
   ],
   "source": [
    "df.shape"
   ]
  },
  {
   "cell_type": "code",
   "execution_count": 5,
   "id": "16d1d203",
   "metadata": {},
   "outputs": [],
   "source": [
    "sample = df.sample(frac=0.1, replace=False, random_state=1)"
   ]
  },
  {
   "cell_type": "code",
   "execution_count": 7,
   "id": "4a163ac2",
   "metadata": {},
   "outputs": [
    {
     "data": {
      "text/html": [
       "<div>\n",
       "<style scoped>\n",
       "    .dataframe tbody tr th:only-of-type {\n",
       "        vertical-align: middle;\n",
       "    }\n",
       "\n",
       "    .dataframe tbody tr th {\n",
       "        vertical-align: top;\n",
       "    }\n",
       "\n",
       "    .dataframe thead th {\n",
       "        text-align: right;\n",
       "    }\n",
       "</style>\n",
       "<table border=\"1\" class=\"dataframe\">\n",
       "  <thead>\n",
       "    <tr style=\"text-align: right;\">\n",
       "      <th></th>\n",
       "      <th>ID</th>\n",
       "      <th>Name</th>\n",
       "      <th>Sex</th>\n",
       "      <th>Age</th>\n",
       "      <th>Height</th>\n",
       "      <th>Weight</th>\n",
       "      <th>Team</th>\n",
       "      <th>NOC</th>\n",
       "      <th>Games</th>\n",
       "      <th>Year</th>\n",
       "      <th>Season</th>\n",
       "      <th>City</th>\n",
       "      <th>Sport</th>\n",
       "      <th>Event</th>\n",
       "      <th>Medal</th>\n",
       "    </tr>\n",
       "  </thead>\n",
       "  <tbody>\n",
       "    <tr>\n",
       "      <th>87425</th>\n",
       "      <td>44330</td>\n",
       "      <td>Gwon Jung-Hyeon</td>\n",
       "      <td>M</td>\n",
       "      <td>26.0</td>\n",
       "      <td>170.0</td>\n",
       "      <td>65.0</td>\n",
       "      <td>South Korea</td>\n",
       "      <td>KOR</td>\n",
       "      <td>1968 Summer</td>\n",
       "      <td>1968</td>\n",
       "      <td>Summer</td>\n",
       "      <td>Mexico City</td>\n",
       "      <td>Cycling</td>\n",
       "      <td>Cycling Men's Sprint</td>\n",
       "      <td>NaN</td>\n",
       "    </tr>\n",
       "    <tr>\n",
       "      <th>232882</th>\n",
       "      <td>116813</td>\n",
       "      <td>Hiroshi Suzuki</td>\n",
       "      <td>M</td>\n",
       "      <td>36.0</td>\n",
       "      <td>173.0</td>\n",
       "      <td>81.0</td>\n",
       "      <td>Japan</td>\n",
       "      <td>JPN</td>\n",
       "      <td>2010 Winter</td>\n",
       "      <td>2010</td>\n",
       "      <td>Winter</td>\n",
       "      <td>Vancouver</td>\n",
       "      <td>Bobsleigh</td>\n",
       "      <td>Bobsleigh Men's Four</td>\n",
       "      <td>NaN</td>\n",
       "    </tr>\n",
       "    <tr>\n",
       "      <th>108037</th>\n",
       "      <td>54622</td>\n",
       "      <td>Jaroslav Jebek</td>\n",
       "      <td>M</td>\n",
       "      <td>33.0</td>\n",
       "      <td>171.0</td>\n",
       "      <td>81.0</td>\n",
       "      <td>Slovakia</td>\n",
       "      <td>SVK</td>\n",
       "      <td>2004 Summer</td>\n",
       "      <td>2004</td>\n",
       "      <td>Summer</td>\n",
       "      <td>Athina</td>\n",
       "      <td>Cycling</td>\n",
       "      <td>Cycling Men's Keirin</td>\n",
       "      <td>NaN</td>\n",
       "    </tr>\n",
       "    <tr>\n",
       "      <th>249841</th>\n",
       "      <td>125115</td>\n",
       "      <td>Lia Vanea</td>\n",
       "      <td>F</td>\n",
       "      <td>26.0</td>\n",
       "      <td>177.0</td>\n",
       "      <td>67.0</td>\n",
       "      <td>Romania</td>\n",
       "      <td>ROU</td>\n",
       "      <td>1964 Summer</td>\n",
       "      <td>1964</td>\n",
       "      <td>Summer</td>\n",
       "      <td>Tokyo</td>\n",
       "      <td>Volleyball</td>\n",
       "      <td>Volleyball Women's Volleyball</td>\n",
       "      <td>NaN</td>\n",
       "    </tr>\n",
       "    <tr>\n",
       "      <th>140123</th>\n",
       "      <td>70349</td>\n",
       "      <td>Pentti Tapio Aleksi Linnosvuo (Lindroos-)</td>\n",
       "      <td>M</td>\n",
       "      <td>27.0</td>\n",
       "      <td>182.0</td>\n",
       "      <td>79.0</td>\n",
       "      <td>Finland</td>\n",
       "      <td>FIN</td>\n",
       "      <td>1960 Summer</td>\n",
       "      <td>1960</td>\n",
       "      <td>Summer</td>\n",
       "      <td>Roma</td>\n",
       "      <td>Shooting</td>\n",
       "      <td>Shooting Men's Free Pistol, 50 metres</td>\n",
       "      <td>NaN</td>\n",
       "    </tr>\n",
       "    <tr>\n",
       "      <th>...</th>\n",
       "      <td>...</td>\n",
       "      <td>...</td>\n",
       "      <td>...</td>\n",
       "      <td>...</td>\n",
       "      <td>...</td>\n",
       "      <td>...</td>\n",
       "      <td>...</td>\n",
       "      <td>...</td>\n",
       "      <td>...</td>\n",
       "      <td>...</td>\n",
       "      <td>...</td>\n",
       "      <td>...</td>\n",
       "      <td>...</td>\n",
       "      <td>...</td>\n",
       "      <td>...</td>\n",
       "    </tr>\n",
       "    <tr>\n",
       "      <th>246723</th>\n",
       "      <td>123534</td>\n",
       "      <td>Marius Daniel Urzic</td>\n",
       "      <td>M</td>\n",
       "      <td>28.0</td>\n",
       "      <td>163.0</td>\n",
       "      <td>57.0</td>\n",
       "      <td>Romania</td>\n",
       "      <td>ROU</td>\n",
       "      <td>2004 Summer</td>\n",
       "      <td>2004</td>\n",
       "      <td>Summer</td>\n",
       "      <td>Athina</td>\n",
       "      <td>Gymnastics</td>\n",
       "      <td>Gymnastics Men's Individual All-Around</td>\n",
       "      <td>NaN</td>\n",
       "    </tr>\n",
       "    <tr>\n",
       "      <th>130707</th>\n",
       "      <td>65806</td>\n",
       "      <td>Vegard Stake Laengen</td>\n",
       "      <td>M</td>\n",
       "      <td>23.0</td>\n",
       "      <td>193.0</td>\n",
       "      <td>77.0</td>\n",
       "      <td>Norway</td>\n",
       "      <td>NOR</td>\n",
       "      <td>2012 Summer</td>\n",
       "      <td>2012</td>\n",
       "      <td>Summer</td>\n",
       "      <td>London</td>\n",
       "      <td>Cycling</td>\n",
       "      <td>Cycling Men's Road Race, Individual</td>\n",
       "      <td>NaN</td>\n",
       "    </tr>\n",
       "    <tr>\n",
       "      <th>27529</th>\n",
       "      <td>14292</td>\n",
       "      <td>Michael Joeseph Boxall</td>\n",
       "      <td>M</td>\n",
       "      <td>19.0</td>\n",
       "      <td>190.0</td>\n",
       "      <td>95.0</td>\n",
       "      <td>New Zealand</td>\n",
       "      <td>NZL</td>\n",
       "      <td>2008 Summer</td>\n",
       "      <td>2008</td>\n",
       "      <td>Summer</td>\n",
       "      <td>Beijing</td>\n",
       "      <td>Football</td>\n",
       "      <td>Football Men's Football</td>\n",
       "      <td>NaN</td>\n",
       "    </tr>\n",
       "    <tr>\n",
       "      <th>17012</th>\n",
       "      <td>9113</td>\n",
       "      <td>Angelika Beblo</td>\n",
       "      <td>F</td>\n",
       "      <td>23.0</td>\n",
       "      <td>176.0</td>\n",
       "      <td>67.0</td>\n",
       "      <td>West Germany</td>\n",
       "      <td>FRG</td>\n",
       "      <td>1984 Summer</td>\n",
       "      <td>1984</td>\n",
       "      <td>Summer</td>\n",
       "      <td>Los Angeles</td>\n",
       "      <td>Rowing</td>\n",
       "      <td>Rowing Women's Coxed Fours</td>\n",
       "      <td>NaN</td>\n",
       "    </tr>\n",
       "    <tr>\n",
       "      <th>11497</th>\n",
       "      <td>6278</td>\n",
       "      <td>Sarah Lianne Ayton (-Dempsey)</td>\n",
       "      <td>F</td>\n",
       "      <td>24.0</td>\n",
       "      <td>167.0</td>\n",
       "      <td>63.0</td>\n",
       "      <td>Great Britain</td>\n",
       "      <td>GBR</td>\n",
       "      <td>2004 Summer</td>\n",
       "      <td>2004</td>\n",
       "      <td>Summer</td>\n",
       "      <td>Athina</td>\n",
       "      <td>Sailing</td>\n",
       "      <td>Sailing Women's Three Person Keelboat</td>\n",
       "      <td>Gold</td>\n",
       "    </tr>\n",
       "  </tbody>\n",
       "</table>\n",
       "<p>27112 rows × 15 columns</p>\n",
       "</div>"
      ],
      "text/plain": [
       "            ID                                       Name Sex   Age  Height  \\\n",
       "87425    44330                            Gwon Jung-Hyeon   M  26.0   170.0   \n",
       "232882  116813                             Hiroshi Suzuki   M  36.0   173.0   \n",
       "108037   54622                             Jaroslav Jebek   M  33.0   171.0   \n",
       "249841  125115                                  Lia Vanea   F  26.0   177.0   \n",
       "140123   70349  Pentti Tapio Aleksi Linnosvuo (Lindroos-)   M  27.0   182.0   \n",
       "...        ...                                        ...  ..   ...     ...   \n",
       "246723  123534                        Marius Daniel Urzic   M  28.0   163.0   \n",
       "130707   65806                       Vegard Stake Laengen   M  23.0   193.0   \n",
       "27529    14292                     Michael Joeseph Boxall   M  19.0   190.0   \n",
       "17012     9113                             Angelika Beblo   F  23.0   176.0   \n",
       "11497     6278              Sarah Lianne Ayton (-Dempsey)   F  24.0   167.0   \n",
       "\n",
       "        Weight           Team  NOC        Games  Year  Season         City  \\\n",
       "87425     65.0    South Korea  KOR  1968 Summer  1968  Summer  Mexico City   \n",
       "232882    81.0          Japan  JPN  2010 Winter  2010  Winter    Vancouver   \n",
       "108037    81.0       Slovakia  SVK  2004 Summer  2004  Summer       Athina   \n",
       "249841    67.0        Romania  ROU  1964 Summer  1964  Summer        Tokyo   \n",
       "140123    79.0        Finland  FIN  1960 Summer  1960  Summer         Roma   \n",
       "...        ...            ...  ...          ...   ...     ...          ...   \n",
       "246723    57.0        Romania  ROU  2004 Summer  2004  Summer       Athina   \n",
       "130707    77.0         Norway  NOR  2012 Summer  2012  Summer       London   \n",
       "27529     95.0    New Zealand  NZL  2008 Summer  2008  Summer      Beijing   \n",
       "17012     67.0   West Germany  FRG  1984 Summer  1984  Summer  Los Angeles   \n",
       "11497     63.0  Great Britain  GBR  2004 Summer  2004  Summer       Athina   \n",
       "\n",
       "             Sport                                   Event Medal  \n",
       "87425      Cycling                    Cycling Men's Sprint   NaN  \n",
       "232882   Bobsleigh                    Bobsleigh Men's Four   NaN  \n",
       "108037     Cycling                    Cycling Men's Keirin   NaN  \n",
       "249841  Volleyball           Volleyball Women's Volleyball   NaN  \n",
       "140123    Shooting   Shooting Men's Free Pistol, 50 metres   NaN  \n",
       "...            ...                                     ...   ...  \n",
       "246723  Gymnastics  Gymnastics Men's Individual All-Around   NaN  \n",
       "130707     Cycling     Cycling Men's Road Race, Individual   NaN  \n",
       "27529     Football                 Football Men's Football   NaN  \n",
       "17012       Rowing              Rowing Women's Coxed Fours   NaN  \n",
       "11497      Sailing   Sailing Women's Three Person Keelboat  Gold  \n",
       "\n",
       "[27112 rows x 15 columns]"
      ]
     },
     "execution_count": 7,
     "metadata": {},
     "output_type": "execute_result"
    }
   ],
   "source": [
    "sample"
   ]
  },
  {
   "cell_type": "code",
   "execution_count": 13,
   "id": "c65ccbff",
   "metadata": {},
   "outputs": [],
   "source": [
    "duplicates = df.duplicated()\n",
    "duplicates_by_row = duplicates.groupby(duplicates.index).sum()"
   ]
  },
  {
   "cell_type": "code",
   "execution_count": 18,
   "id": "fc21ca8f",
   "metadata": {},
   "outputs": [
    {
     "data": {
      "text/plain": [
       "<AxesSubplot:ylabel='Frequency'>"
      ]
     },
     "execution_count": 18,
     "metadata": {},
     "output_type": "execute_result"
    },
    {
     "data": {
      "image/png": "[encoded data removed]",
      "text/plain": [
       "<Figure size 640x480 with 1 Axes>"
      ]
     },
     "metadata": {},
     "output_type": "display_data"
    }
   ],
   "source": [
    "duplicates_by_row[duplicates_by_row != 0].plot(kind='hist')"
   ]
  },
  {
   "cell_type": "code",
   "execution_count": null,
   "id": "c4f861de",
   "metadata": {},
   "outputs": [],
   "source": [
    "ERNST\n",
    "YOUNG\n",
    "DELOITTE\n",
    "TOUCHE\n",
    "KPMG\n",
    "PRICEWATERHOUSECOOPERS\n",
    "PRICEWATERHOUSE\n",
    "COOPERS"
   ]
  },
  {
   "cell_type": "code",
   "execution_count": 4,
   "id": "4c0d8a97",
   "metadata": {},
   "outputs": [
    {
     "ename": "SyntaxError",
     "evalue": "EOL while scanning string literal (2970301885.py, line 1)",
     "output_type": "error",
     "traceback": [
      "\u001b[1;36m  File \u001b[1;32m\"C:\\Users\\CWC\\AppData\\Local\\Temp\\ipykernel_8860\\2970301885.py\"\u001b[1;36m, line \u001b[1;32m1\u001b[0m\n\u001b[1;33m    string = \"ERNST\u001b[0m\n\u001b[1;37m                   ^\u001b[0m\n\u001b[1;31mSyntaxError\u001b[0m\u001b[1;31m:\u001b[0m EOL while scanning string literal\n"
     ]
    }
   ],
   "source": [
    "string = \"ERNST\n",
    "YOUNG\n",
    "DELOITTE\n",
    "TOUCHE\n",
    "KPMG\n",
    "PRICEWATERHOUSECOOPERS\n",
    "PRICEWATERHOUSE\n",
    "COOPERS\"\n",
    "\n",
    "new_string = \", \".join(string.split())\n",
    "\n",
    "print(new_string)"
   ]
  },
  {
   "cell_type": "code",
   "execution_count": 8,
   "id": "ed82f623",
   "metadata": {},
   "outputs": [
    {
     "name": "stdout",
     "output_type": "stream",
     "text": [
      "This\n",
      "is\n",
      "a\n",
      "sample\n",
      "string\n"
     ]
    }
   ],
   "source": [
    "string = \"This is a sample string\"\n",
    "\n",
    "new_string = \"\\n\".join(string.split())\n",
    "\n",
    "print(new_string)\n"
   ]
  },
  {
   "cell_type": "code",
   "execution_count": null,
   "id": "8ab0793a",
   "metadata": {},
   "outputs": [],
   "source": []
  },
  {
   "cell_type": "code",
   "execution_count": null,
   "id": "693d0659",
   "metadata": {},
   "outputs": [],
   "source": []
  },
  {
   "cell_type": "code",
   "execution_count": null,
   "id": "428fa0b4",
   "metadata": {},
   "outputs": [],
   "source": []
  },
  {
   "cell_type": "code",
   "execution_count": null,
   "id": "4023a77c",
   "metadata": {},
   "outputs": [],
   "source": []
  }
 ],
 "metadata": {
  "kernelspec": {
   "display_name": "Python 3 (ipykernel)",
   "language": "python",
   "name": "python3"
  },
  "language_info": {
   "codemirror_mode": {
    "name": "ipython",
    "version": 3
   },
   "file_extension": ".py",
   "mimetype": "text/x-python",
   "name": "python",
   "nbconvert_exporter": "python",
   "pygments_lexer": "ipython3",
   "version": "3.10.9"
  }
 },
 "nbformat": 4,
 "nbformat_minor": 5
}
