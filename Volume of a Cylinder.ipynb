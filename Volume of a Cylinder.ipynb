{
 "cells": [
  {
   "cell_type": "code",
   "execution_count": 2,
   "id": "09a15b9f-ea67-439f-82e9-28990e1ff21a",
   "metadata": {
    "tags": []
   },
   "outputs": [],
   "source": [
    "import numpy as np"
   ]
  },
  {
   "cell_type": "code",
   "execution_count": 17,
   "id": "77724f5d-a71d-416e-9286-83b376f4fa57",
   "metadata": {
    "tags": []
   },
   "outputs": [
    {
     "name": "stdin",
     "output_type": "stream",
     "text": [
      "Enter the Diameter 5\n",
      "Enter the Length 5\n"
     ]
    },
    {
     "data": {
      "text/plain": [
       "98.1748"
      ]
     },
     "execution_count": 17,
     "metadata": {},
     "output_type": "execute_result"
    }
   ],
   "source": [
    "def volume_of_cylinder(diameter, length):\n",
    "    pi_val = np.pi\n",
    "    r = float(diameter) / 2\n",
    "    length = int(length)\n",
    "    volume = pi_val * (r**2) * length\n",
    "    return round(volume, 4)\n",
    "\n",
    "diameter = input('Enter the Diameter')\n",
    "length = input('Enter the Length')\n",
    "volume_of_cylinder(diameter, length)"
   ]
  }
 ],
 "metadata": {
  "kernelspec": {
   "display_name": "Python 3 (ipykernel)",
   "language": "python",
   "name": "python3"
  },
  "language_info": {
   "codemirror_mode": {
    "name": "ipython",
    "version": 3
   },
   "file_extension": ".py",
   "mimetype": "text/x-python",
   "name": "python",
   "nbconvert_exporter": "python",
   "pygments_lexer": "ipython3",
   "version": "3.11.3"
  }
 },
 "nbformat": 4,
 "nbformat_minor": 5
}
