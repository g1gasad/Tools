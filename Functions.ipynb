{
 "cells": [
  {
   "cell_type": "code",
   "execution_count": null,
   "id": "e1eb99c4-d8cf-4aa7-a669-0e4a6afcffe4",
   "metadata": {
    "tags": []
   },
   "outputs": [],
   "source": [
    "a = input(); y = 1\n",
    "\n",
    "for i in range(int(a)):\n",
    "    y = y*(i+1)\n",
    "    print(y)"
   ]
  },
  {
   "cell_type": "code",
   "execution_count": null,
   "id": "071a8975-5107-4a37-ac9d-92b8b7aa5736",
   "metadata": {
    "tags": []
   },
   "outputs": [],
   "source": [
    "def factorial_of(a):\n",
    "    y = 1\n",
    "    for i in range(a):\n",
    "        y = y*(i+1)\n",
    "    return y\n",
    "a = int(input())\n",
    "factorial_of(a)"
   ]
  },
  {
   "cell_type": "code",
   "execution_count": null,
   "id": "d9523455-4bc7-4605-8f09-e2e24bcbf41f",
   "metadata": {},
   "outputs": [],
   "source": [
    "def grass_area(side_square, distance):\n",
    "    '''Calculates the area of the border and return the amount of seed needed in Kgs'''\n",
    "    larger_square_side = (side_square) + 2 * (distance)\n",
    "    area = larger_square_side**2 - side_square**2\n",
    "    seed_amount = area * 35\n",
    "    return seed_amount / 1000"
   ]
  },
  {
   "cell_type": "code",
   "execution_count": null,
   "id": "bafd4def-fbd1-484f-8155-20e418026c21",
   "metadata": {},
   "outputs": [],
   "source": [
    "grass_area(4,2)"
   ]
  },
  {
   "cell_type": "code",
   "execution_count": null,
   "id": "1cb03a79-75cf-444a-85a6-9e72333ab08e",
   "metadata": {
    "tags": []
   },
   "outputs": [],
   "source": [
    "import random\n",
    "number = random.randint(1, 10)\n",
    "num_of_guesses = 0\n",
    "\n",
    "while num_of_guesses < 5:\n",
    "    print(\"Guess a fucking number between 1 and 10\")\n",
    "    guess = input()\n",
    "    guess = int(guess)\n",
    "    num_of_guesses += 1\n",
    "    if guess == number:\n",
    "        print(\"Holy Mother!\")\n",
    "        break\n",
    "    elif num_of_guesses == 5:\n",
    "        print(\"Kal..\")\n",
    "        break\n",
    "    else:\n",
    "        print('Try again you piece of trash.')"
   ]
  },
  {
   "cell_type": "code",
   "execution_count": null,
   "id": "3cf22ab0-3853-4841-bede-8af2f2b4d53e",
   "metadata": {
    "tags": []
   },
   "outputs": [],
   "source": [
    "(\"ste\" + \"ward \")*2"
   ]
  },
  {
   "cell_type": "code",
   "execution_count": null,
   "id": "a1cd6259-5330-400f-ba53-5a59099a882e",
   "metadata": {
    "tags": []
   },
   "outputs": [],
   "source": [
    "print(\"Kal..\\\\nAana Be\")"
   ]
  },
  {
   "cell_type": "code",
   "execution_count": null,
   "id": "160ea434-6210-4518-93c7-79b36b63d7f4",
   "metadata": {},
   "outputs": [],
   "source": []
  }
 ],
 "metadata": {
  "kernelspec": {
   "display_name": "Python 3 (ipykernel)",
   "language": "python",
   "name": "python3"
  },
  "language_info": {
   "codemirror_mode": {
    "name": "ipython",
    "version": 3
   },
   "file_extension": ".py",
   "mimetype": "text/x-python",
   "name": "python",
   "nbconvert_exporter": "python",
   "pygments_lexer": "ipython3",
   "version": "3.11.3"
  }
 },
 "nbformat": 4,
 "nbformat_minor": 5
}
