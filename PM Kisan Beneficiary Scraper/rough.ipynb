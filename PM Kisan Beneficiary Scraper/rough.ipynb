{
 "cells": [
  {
   "cell_type": "code",
   "execution_count": 2,
   "metadata": {},
   "outputs": [
    {
     "ename": "SyntaxError",
     "evalue": "'return' outside function (244473049.py, line 7)",
     "output_type": "error",
     "traceback": [
      "\u001b[1;36m  Cell \u001b[1;32mIn[2], line 7\u001b[1;36m\u001b[0m\n\u001b[1;33m    return add(a, b)\u001b[0m\n\u001b[1;37m    ^\u001b[0m\n\u001b[1;31mSyntaxError\u001b[0m\u001b[1;31m:\u001b[0m 'return' outside function\n"
     ]
    }
   ],
   "source": [
    "def add(a, b):\n",
    "    return a + b\n",
    "\n",
    "for i in range(10):\n",
    "    a = i\n",
    "    b = i+1\n",
    "     add(a, b)\n",
    "\n"
   ]
  },
  {
   "cell_type": "code",
   "execution_count": 1,
   "metadata": {},
   "outputs": [
    {
     "ename": "NameError",
     "evalue": "name 'WebDriverWait' is not defined",
     "output_type": "error",
     "traceback": [
      "\u001b[1;31m---------------------------------------------------------------------------\u001b[0m",
      "\u001b[1;31mNameError\u001b[0m                                 Traceback (most recent call last)",
      "Cell \u001b[1;32mIn[1], line 1\u001b[0m\n\u001b[1;32m----> 1\u001b[0m block_select_element \u001b[38;5;241m=\u001b[39m \u001b[43mWebDriverWait\u001b[49m(driver, \u001b[38;5;241m10\u001b[39m)\u001b[38;5;241m.\u001b[39muntil(\n\u001b[0;32m      2\u001b[0m     EC\u001b[38;5;241m.\u001b[39mvisibility_of_element_located((By\u001b[38;5;241m.\u001b[39mXPATH, sub_district_xpath)))\n\u001b[0;32m      3\u001b[0m block_selenium_list \u001b[38;5;241m=\u001b[39m block_select_element\u001b[38;5;241m.\u001b[39mfind_elements(by\u001b[38;5;241m=\u001b[39m\u001b[38;5;124m'\u001b[39m\u001b[38;5;124mxpath\u001b[39m\u001b[38;5;124m'\u001b[39m, value\u001b[38;5;241m=\u001b[39m\u001b[38;5;124mf\u001b[39m\u001b[38;5;124m\"\u001b[39m\u001b[38;5;132;01m{\u001b[39;00mblock_xpath\u001b[38;5;132;01m}\u001b[39;00m\u001b[38;5;124m//option\u001b[39m\u001b[38;5;124m\"\u001b[39m)\n\u001b[0;32m      4\u001b[0m block_list \u001b[38;5;241m=\u001b[39m [b\u001b[38;5;241m.\u001b[39mtext \u001b[38;5;28;01mfor\u001b[39;00m b \u001b[38;5;129;01min\u001b[39;00m block_selenium_list]\n",
      "\u001b[1;31mNameError\u001b[0m: name 'WebDriverWait' is not defined"
     ]
    }
   ],
   "source": [
    "village_select_element = WebDriverWait(driver, 10).until(\n",
    "    EC.visibility_of_element_located((By.XPATH, village_xpath)))\n",
    "village_selenium_list = village_select_element.find_elements(by='xpath', value=f\"{village_xpath}//option\")\n",
    "village_list = [b.text for b in village_selenium_list]\n",
    "old_village_name = None\n",
    "for village in village_list[1:]:\n",
    "    new_village_name = village.strip()\n",
    "    # print('start')\n",
    "    time.sleep(3)\n",
    "    \n",
    "    if old_village_name is None:\n",
    "        # print(\"finding subdistrict select\")\n",
    "        village_select_element_new = WebDriverWait(driver, 10).until(\n",
    "            EC.visibility_of_element_located((By.XPATH, village_xpath)))\n",
    "        village_select = driver.find_element(by=\"xpath\", value=village_xpath).click()\n",
    "    else:\n",
    "        # print('finding old subdistrict')\n",
    "        village_select = driver.find_element(by=\"xpath\", value=f\"//*[contains(text(), '{old_village_name}')]\").click()\n",
    "    \n",
    "    time.sleep(3)\n",
    "    village_name = driver.find_element(by='xpath', value=f\"//*[contains(text(), '{new_village_name}')]\")\n",
    "    # time.sleep(3)\n",
    "    village_name.click()\n",
    "    old_village_name = new_village_name\n",
    "    print(f\"{new_block_name}: {old_village_name}\")    "
   ]
  }
 ],
 "metadata": {
  "kernelspec": {
   "display_name": "Python 3",
   "language": "python",
   "name": "python3"
  },
  "language_info": {
   "codemirror_mode": {
    "name": "ipython",
    "version": 3
   },
   "file_extension": ".py",
   "mimetype": "text/x-python",
   "name": "python",
   "nbconvert_exporter": "python",
   "pygments_lexer": "ipython3",
   "version": "3.11.4"
  }
 },
 "nbformat": 4,
 "nbformat_minor": 2
}
