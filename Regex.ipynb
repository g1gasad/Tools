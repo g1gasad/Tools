{
 "cells": [
  {
   "cell_type": "code",
   "execution_count": 1,
   "id": "0c5fb3d4-575f-49f1-8b29-ba9e2a0b15a4",
   "metadata": {
    "tags": []
   },
   "outputs": [],
   "source": [
    "import re"
   ]
  },
  {
   "cell_type": "code",
   "execution_count": 4,
   "id": "4531ccf4-40af-4629-b446-ad6d79f0d1b1",
   "metadata": {
    "tags": []
   },
   "outputs": [
    {
     "data": {
      "text/plain": [
       "<re.Match object; span=(18, 22), match='wall'>"
      ]
     },
     "execution_count": 4,
     "metadata": {},
     "output_type": "execute_result"
    }
   ],
   "source": [
    "my_string = 'Three sad tigers swallowed wheat in a wheat field'\n",
    "\n",
    "match = re.search('wall', my_string)\n",
    "match"
   ]
  },
  {
   "cell_type": "markdown",
   "id": "5e9009a6-533a-4a67-9f9d-3d7b13c37763",
   "metadata": {
    "tags": []
   },
   "source": [
    "This example returns a match object that contains information about the search. In this case, it tells you that the substring ‘wall’ does occur in the string from indices 18–22. "
   ]
  },
  {
   "cell_type": "code",
   "execution_count": 5,
   "id": "0ae0a4b7-e394-4bd5-a237-f14c1443c1f6",
   "metadata": {
    "tags": []
   },
   "outputs": [
    {
     "data": {
      "text/plain": [
       "<re.Match object; span=(6, 9), match='sad'>"
      ]
     },
     "execution_count": 5,
     "metadata": {},
     "output_type": "execute_result"
    }
   ],
   "source": [
    "re.search('[bms]ad', my_string)"
   ]
  },
  {
   "cell_type": "markdown",
   "id": "d1a8955b-ec04-4401-a719-bb18822ba429",
   "metadata": {},
   "source": [
    "This example will search for “bad,” “mad,” and “sad.” Again, these are very basic examples. \n",
    "\n",
    "Regex has a large catalogue of special expressions that let you search for substrings that will only match if, for example, they are followed by certain characters, or if they don’t contain a certain set of characters. It can get very complex. Depending on the work you do as a data professional, you may find yourself exploring regular expressions to analyze and process your data"
   ]
  },
  {
   "cell_type": "code",
   "execution_count": null,
   "id": "6e5cbb7a-e3b3-4d60-aaca-83b858145335",
   "metadata": {},
   "outputs": [],
   "source": []
  },
  {
   "cell_type": "code",
   "execution_count": null,
   "id": "61fbd351-6289-4ba9-ba43-2d403f94db6e",
   "metadata": {},
   "outputs": [],
   "source": []
  }
 ],
 "metadata": {
  "kernelspec": {
   "display_name": "Python 3 (ipykernel)",
   "language": "python",
   "name": "python3"
  },
  "language_info": {
   "codemirror_mode": {
    "name": "ipython",
    "version": 3
   },
   "file_extension": ".py",
   "mimetype": "text/x-python",
   "name": "python",
   "nbconvert_exporter": "python",
   "pygments_lexer": "ipython3",
   "version": "3.11.3"
  }
 },
 "nbformat": 4,
 "nbformat_minor": 5
}
