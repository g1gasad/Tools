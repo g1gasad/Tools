{
 "cells": [
  {
   "cell_type": "code",
   "execution_count": 22,
   "id": "df6fb1d9-6c35-491d-b80f-b2d94a672a6d",
   "metadata": {
    "tags": []
   },
   "outputs": [
    {
     "name": "stdin",
     "output_type": "stream",
     "text": [
      "Paste the copied Link Address of the Page: https://bidassist.com/tender-results/all-tenders/active?sort=RELEVANCE:DESC&pageNumber=0&pageSize=10&tenderType=ACTIVE&tenderEntity=TENDER_RESULT&year=2023&filter=CATEGORY:Bridge%20Construction%7CBuilding%20Construction%7CCivil%20Works%20Others%7CConstruction%20Material%7CDrainage%20Work%7CHighway%20Construction%7CIrrigation%20Work%7CPipe%20Line%20Project%7CRoad%20Construction%7CWater%20Storage%20And%20Supply&filter=LOCATION_STRING:Maharashtra&filter=DISTRICT_LOCATION:Amravati%7CNagpur&removeUnavailableTenderAmountCards=false&removeUnavailableEmdCards=false\n"
     ]
    },
    {
     "name": "stdout",
     "output_type": "stream",
     "text": [
      "\n"
     ]
    },
    {
     "name": "stdin",
     "output_type": "stream",
     "text": [
      "Enter the number of pages you want: 1000\n"
     ]
    },
    {
     "name": "stdout",
     "output_type": "stream",
     "text": [
      "\n"
     ]
    },
    {
     "data": {
      "application/vnd.jupyter.widget-view+json": {
       "model_id": "04a6df4e77af464daec8fd94c57cff9f",
       "version_major": 2,
       "version_minor": 0
      },
      "text/plain": [
       "  0%|                                                                                                         …"
      ]
     },
     "metadata": {},
     "output_type": "display_data"
    },
    {
     "name": "stdout",
     "output_type": "stream",
     "text": [
      "76 Minutes 1 Second\n"
     ]
    }
   ],
   "source": [
    "from tqdm.notebook import tqdm\n",
    "import requests\n",
    "import ssl\n",
    "import pandas as pd\n",
    "from bs4 import BeautifulSoup\n",
    "import matplotlib.pyplot as plt\n",
    "import time\n",
    "ssl._create_default_https_context = ssl._create_unverified_context\n",
    "\n",
    "def notable_amount(x):\n",
    "    return 'Lac' in x or 'Cr' in x or 'K' in x\n",
    "\n",
    "def to_numeric_amount(x):\n",
    "    unit_multiplier = {'K': 1e3, \"Lac\": 1e5, \"Cr\": 1e7}\n",
    "    for u, v in unit_multiplier.items():\n",
    "        if u in x:\n",
    "            return round(float(x.split()[1]) * v)\n",
    "\n",
    "def anomaly_to_standard(df):\n",
    "    df.loc[df['City'].str.contains(\"-\"), \"City\"] = 'Multi-City'\n",
    "    df.loc[df['City'].str.contains(\"-\"), \"State\"] = 'Maharashtra'\n",
    "    return df\n",
    "    \n",
    "def readable_time_format(x):\n",
    "    minute = x // 60\n",
    "    second = x % 60\n",
    "    if second == 0 or second == 1:\n",
    "        if minute == 0 or minute == 1:\n",
    "            return f'{minute} Minute {second} Second'\n",
    "        else:\n",
    "            return f'{minute} Minutes {second} Second'\n",
    "    else:\n",
    "        if minute == 0 or minute == 1:\n",
    "            return f'{minute} Minute {second} Seconds'\n",
    "        else:\n",
    "            return f'{minute} Minutes {second} Seconds'\n",
    "        \n",
    "def page_links(url, end_page_number):\n",
    "    if end_page_number == 1:\n",
    "        return [url]\n",
    "    else:\n",
    "        return [url.replace(\"1\", str(i), 1) for i in range(1, end_page_number + 1)]\n",
    "\n",
    "def extract_data(tab):\n",
    "    try:\n",
    "        link = tab.find('a')\n",
    "        if link:\n",
    "            link_title = link.get('title')\n",
    "            link_url = link['href']\n",
    "        else:\n",
    "            link_title = \"Unknown\"\n",
    "            link_url = \"Unknown\"\n",
    "\n",
    "        date_element = tab.find_all('span', class_='truncate textHeading')[0]\n",
    "        amount_element = tab.find_all('span', class_='truncate textHeading')[1]\n",
    "        location_element = tab.find('span', class_='truncate relative tender-locations')\n",
    "        stage_element = tab.find('span', class_='info-chip-title m-r-15')\n",
    "        categories_element = tab.find('span', class_='text-box')\n",
    "\n",
    "        # Use a function to extract text safely, providing a default value if the element is not found.\n",
    "        def get_text(element, default=\"Unknown\"):\n",
    "            return element.get_text() if element else default\n",
    "\n",
    "        return {\n",
    "            \"Title\": link_title,\n",
    "            \"URL\": link_url,\n",
    "            \"Contract Date\": get_text(date_element),\n",
    "            \"Contract Amount\": get_text(amount_element),\n",
    "            \"Location\": get_text(location_element),\n",
    "            \"Stage\": get_text(stage_element),\n",
    "            \"Categories\": get_text(categories_element)\n",
    "            }\n",
    "        \n",
    "    except Exception as e:\n",
    "        # Handle any exceptions that may occur during parsing\n",
    "        print(f\"An error occurred: {e}\")\n",
    "        return None\n",
    "\n",
    "def preprocess_and_clean(df):\n",
    "    df['Tender_ID'] = df['Title'].str.split(\" - \").str[0]\n",
    "    df['Stage'] = df['Stage'].str.split(': ').str[1].str.strip()\n",
    "    df['Stage'].fillna(\"Unknown\", inplace=True)\n",
    "    df.loc[df['Stage'].str.contains('AOC'), 'Stage'] = 'AOC'\n",
    "    df['Description'] = df['Title'].str.split(\" - \").str[1]\n",
    "    df['City'] = df['Location'].str.split(',').str[0]\n",
    "    df['State'] = df['Location'].str.split(',').str[1]\n",
    "    df['Authority'] = df['URL'].str.split(\"/\").str[5].str.replace(\"-\", \" \").str.title()\n",
    "    df.drop(columns=['Title', 'Location'], axis=1, inplace=True)\n",
    "    return df\n",
    "\n",
    "def website_to_df(url, end_page_number):\n",
    "    url = url.replace(\"?\", \"/tender-page-1?\", 1)\n",
    "    start = time.time()\n",
    "    df = pd.DataFrame()\n",
    "    end_page_number = int(end_page_number)\n",
    "    \n",
    "    tab_links = []\n",
    "    for link in page_links(url, end_page_number):\n",
    "        response = requests.get(link)\n",
    "        soup = BeautifulSoup(response.content, 'html.parser')\n",
    "        tab_containers = soup.find_all('div', class_='block card clearfix')\n",
    "        tab_links.extend(tab_containers)\n",
    "        \n",
    "    data_list = [extract_data(tab) for tab in tqdm (tab_links, ncols=800)\n",
    "                 if (extract_data(tab), time.sleep(0.3))]\n",
    "    df = pd.DataFrame(data_list)\n",
    "    df = preprocess_and_clean(df)\n",
    "    df = df.loc[df['Contract Amount'].apply(notable_amount)].reset_index(drop=True)\n",
    "    df['Contract Amount'] = df['Contract Amount'].str.strip()\n",
    "    df['numeric_amount'] = df['Contract Amount'].apply(to_numeric_amount)\n",
    "    desired_cols = ['Description', 'Authority', 'Stage', 'Contract Date', 'Contract Amount',\n",
    "                    'City', 'URL', 'Tender_ID', 'State', 'Categories', 'numeric_amount']\n",
    "    df = df[desired_cols]\n",
    "    df = anomaly_to_standard(df)\n",
    "    end = time.time()\n",
    "    time_elapsed = round(end - start)\n",
    "    return df, time_elapsed\n",
    "\n",
    "url = input('Paste the copied Link Address of the Page:')\n",
    "print()\n",
    "end_page_number = input(\"Enter the number of pages you want:\")\n",
    "print()\n",
    "df, time_elapsed = website_to_df(url, end_page_number)\n",
    "print(readable_time_format(time_elapsed))\n",
    "# filename = f\"NGP & AMR, {df.shape[0]} Tenders.xlsx\"\n",
    "# df.to_excel(filename, index=False)\n",
    "# df"
   ]
  },
  {
   "cell_type": "code",
   "execution_count": 51,
   "id": "129b8ec5-5cca-43f7-b7f7-28730001822b",
   "metadata": {},
   "outputs": [],
   "source": [
    "def unique_work_categories():\n",
    "    k = []\n",
    "    for i in list(df['Categories']):\n",
    "        for j in list(i.split(',')):\n",
    "            k.append(j.strip())\n",
    "    return list(set(k))\n",
    "# unique_work_categories()"
   ]
  },
  {
   "cell_type": "code",
   "execution_count": 76,
   "id": "b9dcb3fb-3c49-4cb8-a334-e69f2a6e922c",
   "metadata": {},
   "outputs": [
    {
     "data": {
      "image/png": "[encoded data removed]",
      "text/plain": [
       "<Figure size 1200x500 with 1 Axes>"
      ]
     },
     "metadata": {},
     "output_type": "display_data"
    }
   ],
   "source": [
    "df['Contract Date'] = pd.to_datetime(df['Contract Date'])\n",
    "plt.figure(figsize=(12,5))\n",
    "data = df[df['Authority'].str.contains('Water')].sort_values(by='Contract Date')\n",
    "plt.scatter(data=data, x='Contract Date', y='numeric_amount')\n",
    "plt.xticks(rotation=30, horizontalalignment='right')\n",
    "plt.show()"
   ]
  },
  {
   "cell_type": "code",
   "execution_count": null,
   "id": "56908c9f-41a1-4c7c-8506-54e06c1f4990",
   "metadata": {},
   "outputs": [],
   "source": []
  },
  {
   "cell_type": "code",
   "execution_count": 7,
   "id": "b87f127b-5117-4f44-8b8d-3ae586eba19f",
   "metadata": {},
   "outputs": [
    {
     "name": "stdout",
     "output_type": "stream",
     "text": [
      "< }\n",
      "<< }}\n",
      "<<< }}}\n",
      "<<<< }}}}\n",
      "<<<<< }}}}}\n",
      "<<<<<< }}}}}}\n",
      "<<<<<<< }}}}}}}\n",
      "<<<<<<<< }}}}}}}}\n",
      "<<<<<<<<< }}}}}}}}}\n",
      "<<<<<<<<<< }}}}}}}}}}\n",
      "<<<<<<<<< }}}}}}}}}\n",
      "<<<<<<<< }}}}}}}}\n",
      "<<<<<<< }}}}}}}\n",
      "<<<<<< }}}}}}\n",
      "<<<<< }}}}}\n",
      "<<<< }}}}\n",
      "<<< }}}\n",
      "<< }}\n",
      "< }\n",
      " \n"
     ]
    }
   ],
   "source": [
    "z = 10\n",
    "for j in range(1, z):\n",
    "    print('<' * j, \"}\"*j)\n",
    "    cons = \"<\"*j\n",
    "    plus = '}'*j\n",
    "    if j == z-1:\n",
    "        print(cons+'<', plus+'}')\n",
    "        for i in range(z):\n",
    "            print(cons[i:], plus[i:])"
   ]
  }
 ],
 "metadata": {
  "kernelspec": {
   "display_name": "Python 3 (ipykernel)",
   "language": "python",
   "name": "python3"
  },
  "language_info": {
   "codemirror_mode": {
    "name": "ipython",
    "version": 3
   },
   "file_extension": ".py",
   "mimetype": "text/x-python",
   "name": "python",
   "nbconvert_exporter": "python",
   "pygments_lexer": "ipython3",
   "version": "3.11.5"
  }
 },
 "nbformat": 4,
 "nbformat_minor": 5
}
