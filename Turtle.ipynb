{
 "cells": [
  {
   "cell_type": "code",
   "execution_count": 74,
   "id": "19cd6193-e7f4-4281-bbfe-98a9627e85ec",
   "metadata": {},
   "outputs": [],
   "source": [
    "import turtle as t\n",
    "t.speed(100)\n",
    "t.bgcolor('white')\n",
    "t.color('green')\n",
    "t.pensize(2)\n",
    "\n",
    "for i in range(260):\n",
    "    if i%9 == 0:    #\n",
    "        t.lt(10)     #distance between the origin of vertex\n",
    "    t.fd(150)       #the size of the polygons  \n",
    "    t.lt(360/3)     #denominator is the number of sides for the polygon\n",
    "    \n",
    "t.done()"
   ]
  },
  {
   "cell_type": "code",
   "execution_count": null,
   "id": "6c9f5339-f5a3-4122-90b7-5f0d142c0866",
   "metadata": {},
   "outputs": [],
   "source": []
  },
  {
   "cell_type": "code",
   "execution_count": null,
   "id": "18f280c8-dc65-4d7d-bb1e-e34d3e9b5a00",
   "metadata": {},
   "outputs": [],
   "source": []
  }
 ],
 "metadata": {
  "kernelspec": {
   "display_name": "Python 3 (ipykernel)",
   "language": "python",
   "name": "python3"
  },
  "language_info": {
   "codemirror_mode": {
    "name": "ipython",
    "version": 3
   },
   "file_extension": ".py",
   "mimetype": "text/x-python",
   "name": "python",
   "nbconvert_exporter": "python",
   "pygments_lexer": "ipython3",
   "version": "3.10.9"
  }
 },
 "nbformat": 4,
 "nbformat_minor": 5
}
