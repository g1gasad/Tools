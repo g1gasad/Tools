{
 "cells": [
  {
   "cell_type": "code",
   "execution_count": 6,
   "id": "17d27dc6-2d87-414f-8d66-47c2ae331bcb",
   "metadata": {
    "tags": []
   },
   "outputs": [
    {
     "name": "stdout",
     "output_type": "stream",
     "text": [
      "0 1\n",
      "0.5 2\n",
      "1.0 4\n",
      "1.5 8\n",
      "2.0 16\n",
      "2.5 32\n",
      "3.0 64\n"
     ]
    }
   ],
   "source": [
    "x = 1\n",
    "i = 0\n",
    "while x < 100:\n",
    "   if i == 6:\n",
    "       break\n",
    "   print(i, x)\n",
    "   x = x*2\n",
    "   i += 0.5"
   ]
  },
  {
   "cell_type": "code",
   "execution_count": 14,
   "id": "5c1ab697-17e6-4407-9c10-8918be8892ad",
   "metadata": {
    "tags": []
   },
   "outputs": [
    {
     "name": "stdout",
     "output_type": "stream",
     "text": [
      "1\n",
      "4\n",
      "7\n"
     ]
    }
   ],
   "source": [
    "i = 0\n",
    "while i < 10:\n",
    "    if i % 3 != 0:\n",
    "        print(i)\n",
    "        i += 1\n",
    "        # continue\n",
    "    i += 1"
   ]
  },
  {
   "cell_type": "code",
   "execution_count": 33,
   "id": "3e3ecb53-7d71-4211-b7fa-f2a61eb6684d",
   "metadata": {
    "tags": []
   },
   "outputs": [
    {
     "name": "stdout",
     "output_type": "stream",
     "text": [
      "0\n",
      "\n",
      "2\n",
      "\n",
      "4\n",
      "\n"
     ]
    }
   ],
   "source": [
    "i = 0\n",
    "while i < 6:\n",
    "    if i % 2 != 1:\n",
    "        print(i)\n",
    "        i += 1\n",
    "        continue\n",
    "    print()\n",
    "    i += 1"
   ]
  },
  {
   "cell_type": "code",
   "execution_count": 38,
   "id": "fd8fe0d5-b818-4340-ad64-47f0e5ab4a9c",
   "metadata": {
    "tags": []
   },
   "outputs": [
    {
     "name": "stdout",
     "output_type": "stream",
     "text": [
      "Hello Man, wow 2.23\n"
     ]
    }
   ],
   "source": [
    "name = 'Man'\n",
    "number = 2.234235\n",
    "print(\"Hello {}, wow {:.2f}\".format(name, number))"
   ]
  },
  {
   "cell_type": "code",
   "execution_count": 39,
   "id": "225372dd-0299-4783-bdcf-21f0d488b3b5",
   "metadata": {
    "tags": []
   },
   "outputs": [
    {
     "name": "stdout",
     "output_type": "stream",
     "text": [
      "B, A\n",
      "A, B\n"
     ]
    }
   ],
   "source": [
    "var_a = 'A'\n",
    "var_b = 'B'\n",
    "print('{1}, {0}'.format(var_a, var_b))\n",
    "print('{0}, {1}'.format(var_a, var_b))"
   ]
  },
  {
   "cell_type": "code",
   "execution_count": 40,
   "id": "1b92360e-eddc-4e43-9a76-a9e7e3a532f3",
   "metadata": {
    "tags": []
   },
   "outputs": [
    {
     "name": "stdout",
     "output_type": "stream",
     "text": [
      "abracadabra\n"
     ]
    }
   ],
   "source": [
    "print('{0}{1}{0}'.format('abra', 'cad'))"
   ]
  },
  {
   "cell_type": "code",
   "execution_count": 41,
   "id": "0899e38c-b609-4ae7-86e8-59453414a466",
   "metadata": {
    "tags": []
   },
   "outputs": [
    {
     "name": "stdout",
     "output_type": "stream",
     "text": [
      "1.001e+03\n",
      "24.9786%\n"
     ]
    }
   ],
   "source": [
    "num = 1000.987123\n",
    "print(f'{num:.3e}')\n",
    "\n",
    "decimal = 0.2497856\n",
    "print(f'{decimal:.4%}')"
   ]
  },
  {
   "cell_type": "code",
   "execution_count": null,
   "id": "18128ef8-dd9b-41f1-8e3a-57b78399fa8e",
   "metadata": {},
   "outputs": [],
   "source": []
  }
 ],
 "metadata": {
  "kernelspec": {
   "display_name": "Python 3 (ipykernel)",
   "language": "python",
   "name": "python3"
  },
  "language_info": {
   "codemirror_mode": {
    "name": "ipython",
    "version": 3
   },
   "file_extension": ".py",
   "mimetype": "text/x-python",
   "name": "python",
   "nbconvert_exporter": "python",
   "pygments_lexer": "ipython3",
   "version": "3.11.3"
  }
 },
 "nbformat": 4,
 "nbformat_minor": 5
}
